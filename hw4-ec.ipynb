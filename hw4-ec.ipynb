{
 "cells": [
  {
   "cell_type": "markdown",
   "metadata": {},
   "source": [
    "---\n",
    "# Extra Credit\n",
    "\n",
    "In this extra credit assignment, we will further explore the concept of floating point \n",
    "representations. In particular, you will\n",
    "\n",
    "1. Design appropriate floating point representations considering various functional \n",
    "(precision, range, etc.) and non-functional (performance, memory footprint, \n",
    "compatibility, etc.) requirements\n",
    "1. Evaluate floating point representations according to various functional and \n",
    "non-functional requirements\n",
    "\n",
    "in the context of machine learning systems. **Note that you do NOT need to know any \n",
    "machine learning to successfully complete this assignment.**\n",
    "\n",
    "The extra credit is worth a total of 100 points. If you have any questions or need \n",
    "assistance, please don't hesitate to reach out to us during office hours or post your \n",
    "questions on the `Ed Discussion` forum."
   ]
  },
  {
   "cell_type": "markdown",
   "metadata": {},
   "source": [
    "---\n",
    "# Assignment\n",
    "\n",
    "---\n",
    "## Part 1: Design (50 points)\n",
    "\n",
    "In this section, you will propose a new floating point format to accelerate machine \n",
    "learning systems.\n",
    "\n",
    "Training and running modern machine learning models, such as ChatGPT, requires \n",
    "performing billions, trillions, quadrillions or even quintillions of floating point \n",
    "operations. By analyzing the unique workload imposed by machine learning, it's possible \n",
    "to design more efficient floating point representations than the IEEE standard 32-bit \n",
    "(`float`) and 64-bit (`double`) representations.\n",
    "\n",
    "The code below trains a neural network (a type of machine learning model) to classify\n",
    "images of handwritten digits. That is, given an image of a handwritten digit (0-9) the\n",
    "neural network outputs the digit.\n",
    "\n",
    "![An image containing handwritten digits of the numbers from 0 to 9.](MNIST.png)\n",
    "\n",
    "For example, the image in the upper left contains the digit `0`. Assuming the neural\n",
    "network is trained correctly, it should also output `0`."
   ]
  },
  {
   "cell_type": "markdown",
   "metadata": {},
   "source": [
    "---\n",
    "### Neural Network Code"
   ]
  },
  {
   "cell_type": "markdown",
   "metadata": {},
   "source": [
    "First, import some libraries."
   ]
  },
  {
   "cell_type": "code",
   "execution_count": 37,
   "metadata": {},
   "outputs": [],
   "source": [
    "import numpy as np\n",
    "from sklearn.datasets import fetch_openml\n",
    "import matplotlib.pyplot as plt\n",
    "from scipy import stats"
   ]
  },
  {
   "cell_type": "markdown",
   "metadata": {},
   "source": [
    "Next, define the neural network. It's OK if you don't understand how this code works,\n",
    "it's not important."
   ]
  },
  {
   "cell_type": "code",
   "execution_count": 38,
   "metadata": {},
   "outputs": [],
   "source": [
    "class NeuralNetwork:\n",
    "    def __init__(self, layers, callback=None):\n",
    "        self.layers = layers\n",
    "\n",
    "        self.callback = callback\n",
    "        if self.callback is None:\n",
    "            self.callback = lambda x: x\n",
    "\n",
    "    def forward(self, x):\n",
    "        self.callback(x)\n",
    "        z = x\n",
    "        for layer in self.layers:\n",
    "            z = layer.forward(z)\n",
    "        return z\n",
    "\n",
    "    def backward(self, dz):\n",
    "        dx = dz\n",
    "        for layer in reversed(self.layers):\n",
    "            dx = layer.backward(dx)\n",
    "        return dx\n",
    "\n",
    "    def get_parameters(self):\n",
    "        return [\n",
    "            parameter \n",
    "            for layer in self.layers \n",
    "            for parameter in layer.get_parameters()\n",
    "        ]\n",
    "\n",
    "    def reset_parameters(self):\n",
    "        for layer in self.layers:\n",
    "            layer.reset_parameters()\n",
    "        \n",
    "\n",
    "class Linear:\n",
    "    def __init__(self, in_features, out_features, callback=None):\n",
    "        self.in_features = in_features\n",
    "        self.out_features = out_features\n",
    "\n",
    "        self.W = np.zeros((out_features, in_features))\n",
    "        self.b = np.zeros(out_features)\n",
    "        self.dW = np.zeros((out_features, in_features))\n",
    "        self.db = np.zeros(out_features)\n",
    "\n",
    "        self.x = np.empty(0)\n",
    "\n",
    "        self.callback = callback\n",
    "        if self.callback is None:\n",
    "            self.callback = lambda x: x\n",
    "\n",
    "        self.reset_parameters()\n",
    "\n",
    "    def forward(self, x):\n",
    "        self.x = x.copy()\n",
    "        z = self.callback(self.callback(self.W @ x) + self.b)\n",
    "        return z\n",
    "\n",
    "    def backward(self, dz):\n",
    "        self.dW += self.callback(np.outer(dz, self.x))\n",
    "        self.callback(self.dW)\n",
    "        self.db += dz\n",
    "        self.callback(self.db)\n",
    "        dx = self.callback(self.W.T @ dz)\n",
    "        return dx\n",
    "\n",
    "    def get_parameters(self):\n",
    "        return [(self.W, self.dW), (self.b, self.db)]\n",
    "\n",
    "    def reset_parameters(self):\n",
    "        r = 4.0 * (6.0 / (self.in_features + self.out_features))\n",
    "        self.W = np.random.uniform(-r, r, size=self.W.shape)\n",
    "        self.callback(self.W)\n",
    "        self.b = np.random.uniform(0, 1, size=self.b.shape)\n",
    "        self.callback(self.b)\n",
    "\n",
    "\n",
    "class Sigmoid:\n",
    "    def __init__(self, callback=None):\n",
    "        self.z = np.empty(0)\n",
    "\n",
    "        self.callback = callback\n",
    "        if self.callback is None:\n",
    "            self.callback = lambda x: x\n",
    "\n",
    "    def forward(self, x):\n",
    "        x_neg = self.callback(-x)\n",
    "        x_exp = self.callback(np.exp(x_neg))\n",
    "        x_exp_shf = self.callback(1.0 + x_exp)\n",
    "        z = self.callback(1.0 / x_exp_shf)\n",
    "        self.z = z.copy()\n",
    "        return z\n",
    "\n",
    "    def backward(self, dz):\n",
    "        dx = self.callback(dz * self.callback(self.z * self.callback(1 - self.z)))\n",
    "        return dx\n",
    "\n",
    "    def get_parameters(self):\n",
    "        return []\n",
    "\n",
    "    def reset_parameters(self):\n",
    "        return\n",
    "\n",
    "\n",
    "class CrossEntropyCriterion:\n",
    "    def __init__(self, callback=None):\n",
    "        self.x = np.empty(0)\n",
    "        self.y = np.empty(0)\n",
    "\n",
    "        self.callback = callback\n",
    "        if self.callback is None:\n",
    "            self.callback = lambda x: x\n",
    "\n",
    "    def forward(self, x, y):\n",
    "        self.x = x.copy()\n",
    "        self.y = y.copy()\n",
    "        x_max = np.max(x)\n",
    "        x_norm = self.callback(x - x_max)\n",
    "        x_exp = self.callback(np.exp(x_norm))\n",
    "        x_sum = self.callback(np.sum(x_exp))\n",
    "        x_log = self.callback(np.log(x_sum))\n",
    "        y_hat = self.callback(x_norm - x_log)\n",
    "        return -y_hat[y.argmax()]\n",
    "\n",
    "    def backward(self):\n",
    "        dx = self.callback(self.x - self.y)\n",
    "        return dx\n",
    "\n",
    "\n",
    "class StochasticGradientDescentOptimizer:\n",
    "    def __init__(self, learning_rate, batch_size, callback=None):\n",
    "        self.learning_rate = learning_rate\n",
    "        self.batch_size = batch_size\n",
    "        self.step_count = 0\n",
    "\n",
    "        self.callback = callback\n",
    "        if self.callback is None:\n",
    "            self.callback = lambda x: x\n",
    "\n",
    "    def step(self, parameters):\n",
    "        self.step_count += 1\n",
    "        if self.step_count < self.batch_size:\n",
    "            return\n",
    "        self.step_count = 0\n",
    "\n",
    "        scaled_learning_rate = (1 / self.batch_size) * self.learning_rate\n",
    "        for p, dp in parameters:\n",
    "            p -= self.callback(scaled_learning_rate * dp)\n",
    "            self.callback(p)\n",
    "            dp[...] = 0\n",
    "            self.callback(dp)\n",
    "\n",
    "\n",
    "class LogCallback:\n",
    "    def __init__(self, p=0.5):\n",
    "        self.p = p\n",
    "        self.data = []\n",
    "\n",
    "    def __call__(self, x):\n",
    "        mask = np.random.random(size=x.shape) < self.p\n",
    "        self.data.extend(x[mask].ravel())\n",
    "        return x"
   ]
  },
  {
   "cell_type": "markdown",
   "metadata": {},
   "source": [
    "Now, define the main function that will train the neural network. Again, it's OK if\n",
    "you don't understand how this code works."
   ]
  },
  {
   "cell_type": "code",
   "execution_count": 39,
   "metadata": {},
   "outputs": [],
   "source": [
    "def main(epochs, callback, fast=False):\n",
    "    model = NeuralNetwork(\n",
    "        [\n",
    "            Linear(784, 128, callback),\n",
    "            Sigmoid(callback),\n",
    "            Linear(128, 10, callback),\n",
    "        ],\n",
    "        callback\n",
    "    )\n",
    "    optimizer = StochasticGradientDescentOptimizer(0.01, 32, callback)\n",
    "    criterion = CrossEntropyCriterion(callback)\n",
    "\n",
    "    X, Y = fetch_openml(\"mnist_784\", version=1, parser=\"auto\", return_X_y=True)\n",
    "    X, Y = X.to_numpy() / 255.0, Y.to_numpy()\n",
    "    if fast:\n",
    "        X, Y = X[:128], Y[:128]\n",
    "    Y = np.array([[0 if int(y) != i else 1 for i in range(10)] for y in Y])\n",
    "\n",
    "    idx = np.arange(len(X))\n",
    "    for epoch in range(epochs):\n",
    "        np.random.shuffle(idx)\n",
    "        X, Y = X[idx], Y[idx]\n",
    "\n",
    "        loss = 0.0\n",
    "        correct = 0\n",
    "        for x, y in zip(X, Y):\n",
    "            y_hat = model.forward(x)\n",
    "            correct += y_hat.argmax() == y.argmax()\n",
    "            loss += criterion.forward(y_hat, y)\n",
    "            model.backward(criterion.backward())\n",
    "            optimizer.step(model.get_parameters())\n",
    "        acc = correct / len(X)\n",
    "        print(f\"[Epoch {epoch + 1}/{epochs}] Accuracy is {100 * acc:.2f}%\")"
   ]
  },
  {
   "cell_type": "markdown",
   "metadata": {},
   "source": [
    "Train the neural network to classify the images of digits (without logging). Epochs are\n",
    "a measurement of how long the neural network trains. Notice that the accuracy of the\n",
    "network increases with the number of epochs."
   ]
  },
  {
   "cell_type": "code",
   "execution_count": 40,
   "metadata": {},
   "outputs": [
    {
     "name": "stdout",
     "output_type": "stream",
     "text": [
      "[Epoch 1/5] Accuracy is 75.62%\n",
      "[Epoch 2/5] Accuracy is 83.89%\n",
      "[Epoch 3/5] Accuracy is 84.86%\n",
      "[Epoch 4/5] Accuracy is 85.14%\n",
      "[Epoch 5/5] Accuracy is 85.39%\n"
     ]
    }
   ],
   "source": [
    "main(epochs=5, callback=None)"
   ]
  },
  {
   "cell_type": "markdown",
   "metadata": {},
   "source": [
    "Now, train the neural network with logging. The `LogCallback` records floating point\n",
    "values observed during neural network training with probability `p`. These values are\n",
    "then displayed in a histogram. The raw data can be accessed via `callback.data` for \n",
    "additional analysis. Since logging introduces some overhead, we pass the `fast=True` \n",
    "flag to only train the neural network on a small part of the data. This keeps training\n",
    "relatively quick."
   ]
  },
  {
   "cell_type": "code",
   "execution_count": 41,
   "metadata": {},
   "outputs": [],
   "source": [
    "def plot_logger(logger):\n",
    "    lower_percentile = np.percentile(logger.data, 5)\n",
    "    upper_percentile = np.percentile(logger.data, 95)\n",
    "    clipped_data = np.clip(logger.data, lower_percentile, upper_percentile)\n",
    "\n",
    "    plt.xlabel(\"Observed Float Values\")\n",
    "    plt.ylabel(\"Frequency\")\n",
    "    plt.hist(clipped_data, bins=20)\n",
    "    plt.show()\n",
    "\n",
    "    print(\"Mean:\", np.mean(logger.data))\n",
    "    print(\"Median:\", np.median(logger.data))\n",
    "    print(\"Standard Deviation:\", np.std(logger.data))\n",
    "    print(\"Min:\", np.min(logger.data))\n",
    "    print(\"Max:\", np.max(logger.data))"
   ]
  },
  {
   "cell_type": "code",
   "execution_count": 42,
   "metadata": {},
   "outputs": [
    {
     "name": "stdout",
     "output_type": "stream",
     "text": [
      "[Epoch 1/10] Accuracy is 7.81%\n",
      "[Epoch 2/10] Accuracy is 17.97%\n",
      "[Epoch 3/10] Accuracy is 17.19%\n",
      "[Epoch 4/10] Accuracy is 21.09%\n",
      "[Epoch 5/10] Accuracy is 28.12%\n",
      "[Epoch 6/10] Accuracy is 25.78%\n",
      "[Epoch 7/10] Accuracy is 28.91%\n",
      "[Epoch 8/10] Accuracy is 38.28%\n",
      "[Epoch 9/10] Accuracy is 32.03%\n",
      "[Epoch 10/10] Accuracy is 39.84%\n"
     ]
    },
    {
     "data": {
      "image/png": "[encoded data removed]",
      "text/plain": [
       "<Figure size 640x480 with 1 Axes>"
      ]
     },
     "metadata": {},
     "output_type": "display_data"
    },
    {
     "name": "stdout",
     "output_type": "stream",
     "text": [
      "Mean: 0.004175751852115345\n",
      "Median: 0.0\n",
      "Standard Deviation: 0.13296107953413444\n",
      "Min: -5.3360563692705245\n",
      "Max: 18.47401114620625\n"
     ]
    }
   ],
   "source": [
    "logger = LogCallback(p=0.001)\n",
    "main(epochs=10, callback=logger, fast=True)\n",
    "plot_logger(logger)"
   ]
  },
  {
   "cell_type": "markdown",
   "metadata": {},
   "source": [
    "---\n",
    "### Design Your Floating Point Representation (50 points)\n",
    "\n",
    "After observing the distribution of floating point values encountered during neural \n",
    "network training, propose a new floating point representation to accelerate training.\n",
    "\n",
    "In particular, provide substantive explanation of and justification for for each \n",
    "component of your proposed floating point representation, including but not limited to\n",
    "\n",
    "1. Total number of bits.\n",
    "1. Number of exponent bits.\n",
    "1. Number of fractional bits.\n",
    "1. Value of the bias.\n",
    "1. Denormalized values (included/not included and which values are denormalized).\n",
    "1. Other special values.\n",
    "1. Any other modifications of the IEEE standard representation.\n",
    "\n",
    "Use multiple kinds of evidence to support your design decisions such as\n",
    "\n",
    "1. Plots of the distribution of floating point values during training.\n",
    "1. Summary statistics of the distribution of floating point values during training.\n",
    "1. Performance measurements of larger (e.g. 64-bit) and smaller (e.g. 32-bit) floating\n",
    "point representations.\n",
    "1. Theoretical justification. For example, the distribution of floating point values\n",
    "representable by your proposed format.\n",
    "\n",
    "Consider multiple functional and non-functional factors in your design such as\n",
    "\n",
    "1. Precision.\n",
    "1. Range.\n",
    "1. Performance.\n",
    "1. Memory footprint.\n",
    "1. Compatibility.\n",
    "1. Implementation difficulty.\n",
    "1. Training stability (will the network still train?)."
   ]
  },
  {
   "cell_type": "markdown",
   "metadata": {},
   "source": [
    "<span style=\"color:red\">TODO: Explain your design here.</span>"
   ]
  },
  {
   "cell_type": "markdown",
   "metadata": {},
   "source": [
    "---\n",
    "## Part 2: Implementation and Evaluation (50 points)\n",
    "\n",
    "In this section, you will implement and evaluate a simulation of your proposed floating \n",
    "point format.\n",
    "\n",
    "To implement the floating point format, you will use the `callback` argument provided by\n",
    "the neural network training function `main`. During training, the `callback` function\n",
    "will be called on every intermediate calculation in the neural network. This allows,\n",
    "for example, logging the distribution of floating point values during training with\n",
    "`LogCallback`. Here, you will use the `callback` argument to convert the actual IEEE \n",
    "64-bit floating point values to the values representable by your format.\n",
    "\n",
    "For example, consider a 5-bit floating point format with one sign bit, two exponent \n",
    "bits, two fractional bits, zero bias and no special values. The following code \n",
    "implements this floating point format as a callback (`ConvertCallback`). The \n",
    "`ComposeCallback` is used to chain together multiple callbacks. For example, logging\n",
    "with conversions."
   ]
  },
  {
   "cell_type": "code",
   "execution_count": 43,
   "metadata": {},
   "outputs": [],
   "source": [
    "from bisect import bisect_left\n",
    "\n",
    "\n",
    "class ConvertCallback:\n",
    "    def __init__(self):\n",
    "        # All representable values.\n",
    "        self.values = [\n",
    "            -14.0, -12.0, -10.0, -8.0,\n",
    "            -7.0, -6.0, -5.0, -4.0,\n",
    "            -3.5, -3.0, -2.5, -2.0,\n",
    "            -1.75, -1.5, -1.25, -1.0,\n",
    "            1.0, 1.25, 1.5, 1.75,\n",
    "            2.0, 2.5, 3.0, 3.5,\n",
    "            4.0, 5.0, 6.0, 7.0,\n",
    "            8.0, 10.0, 12.0, 14.0,\n",
    "        ]\n",
    "\n",
    "    def convert(self, value):\n",
    "        # Find the index of the first representable float >= value.\n",
    "        i = bisect_left(self.values, value)\n",
    "        # If it is out of bounds, round to the maximum float.\n",
    "        # Note that this is different than the IEEE standard rounding.\n",
    "        if i == len(self.values):\n",
    "            i -= 1\n",
    "        # Return the representable float.\n",
    "        return self.values[i]\n",
    "\n",
    "    def __call__(self, x):\n",
    "        # Create a copy of `x` to return.\n",
    "        x = x.copy()\n",
    "\n",
    "        # View `x` as a flat array.\n",
    "        flat_x = x.ravel()\n",
    "\n",
    "        # Convert each element in `x` into a representable float.\n",
    "        for i in range(len(flat_x)):\n",
    "            flat_x[i] = self.convert(flat_x[i])\n",
    "        \n",
    "        # Return the array.\n",
    "        return x\n",
    "\n",
    "\n",
    "class ComposeCallback:\n",
    "    def __init__(self, callbacks):\n",
    "        self.callbacks = callbacks\n",
    "    \n",
    "    def __call__(self, x):\n",
    "        for callback in self.callbacks:\n",
    "            x = callback(x)\n",
    "        return x"
   ]
  },
  {
   "cell_type": "markdown",
   "metadata": {},
   "source": [
    "Now, train the neural network using the simulated 5-bit floating point format. Use the\n",
    "`fast=True` flag because of the conversion and logging overhead. \n",
    "\n",
    "Note that the neural network stops improving at ~14% accuracy unlike before where it \n",
    "reached ~40% accuracy without any signs of slowing down. In the histogram of the \n",
    "floating point values, we see that almost all floats encountered during training are \n",
    "either 1 or 14, while they were clustered around 0 with the IEEE format. Consider what \n",
    "might be happening here."
   ]
  },
  {
   "cell_type": "code",
   "execution_count": 44,
   "metadata": {},
   "outputs": [
    {
     "name": "stdout",
     "output_type": "stream",
     "text": [
      "[Epoch 1/10] Accuracy is 14.06%\n",
      "[Epoch 2/10] Accuracy is 14.06%\n",
      "[Epoch 3/10] Accuracy is 14.06%\n",
      "[Epoch 4/10] Accuracy is 14.06%\n",
      "[Epoch 5/10] Accuracy is 14.06%\n",
      "[Epoch 6/10] Accuracy is 14.06%\n",
      "[Epoch 7/10] Accuracy is 14.06%\n",
      "[Epoch 8/10] Accuracy is 14.06%\n",
      "[Epoch 9/10] Accuracy is 14.06%\n",
      "[Epoch 10/10] Accuracy is 14.06%\n"
     ]
    },
    {
     "data": {
      "image/png": "[encoded data removed]",
      "text/plain": [
       "<Figure size 640x480 with 1 Axes>"
      ]
     },
     "metadata": {},
     "output_type": "display_data"
    },
    {
     "name": "stdout",
     "output_type": "stream",
     "text": [
      "Mean: 6.541728788657369\n",
      "Median: 4.0\n",
      "Standard Deviation: 6.992589452298105\n",
      "Min: -14.0\n",
      "Max: 14.0\n"
     ]
    }
   ],
   "source": [
    "logger = LogCallback(p=0.001)\n",
    "callback = ComposeCallback([ConvertCallback(), logger])\n",
    "main(epochs=10, callback=callback, fast=True)\n",
    "plot_logger(logger)"
   ]
  },
  {
   "cell_type": "markdown",
   "metadata": {},
   "source": [
    "---\n",
    "### Implement Your Floating Point Representation (25 points)\n",
    "\n",
    "Implement your proposed floating point representation as a callback like \n",
    "`ConvertCallback`. Depending on your representation, you might need to use a different\n",
    "implementation strategy than `ConvertCallback`. For example, there might be too many \n",
    "values to hardcode an array containing them. \n",
    "\n",
    "Try training the neural network with your callback."
   ]
  },
  {
   "cell_type": "code",
   "execution_count": 45,
   "metadata": {},
   "outputs": [],
   "source": [
    "# TODO: Write your implementation here."
   ]
  },
  {
   "cell_type": "markdown",
   "metadata": {},
   "source": [
    "---\n",
    "### Evaluate Your Floating Point Representation (25 points)\n",
    "\n",
    "After training a neural network with your proposed floating point format, evaluate your\n",
    "design. Explain what worked well, what didn't and why. Propose at least one modification\n",
    "to improve your design.\n",
    "\n",
    "In particular, consider multiple functional and non-functional factors in your \n",
    "evaluation such as\n",
    "\n",
    "1. Precision.\n",
    "1. Range.\n",
    "1. Performance.\n",
    "1. Memory footprint.\n",
    "1. Compatibility.\n",
    "1. Implementation difficulty.\n",
    "1. Training stability (will the network still train?).\n",
    "\n",
    "Use multiple kinds of evidence to support your evaluation such as\n",
    "\n",
    "1. Plots of the distribution of floating point values during training.\n",
    "1. Summary statistics of the distribution of floating point values during training.\n",
    "\n",
    "Justify your observations with connections to component(s) of your proposed floating \n",
    "point representation such as\n",
    "\n",
    "1. Total number of bits.\n",
    "1. Number of exponent bits.\n",
    "1. Number of fractional bits.\n",
    "1. Value of the bias.\n",
    "1. Denormalized values (included/not included and which values are denormalized).\n",
    "1. Other special values.\n",
    "1. Any other modifications of the IEEE standard representation."
   ]
  },
  {
   "cell_type": "markdown",
   "metadata": {},
   "source": [
    "<span style=\"color:red\">TODO: Evaluate your design here.</span>"
   ]
  }
 ],
 "metadata": {
  "kernelspec": {
   "display_name": "Python 3.10.12 64-bit",
   "language": "python",
   "name": "python3"
  },
  "language_info": {
   "codemirror_mode": {
    "name": "ipython",
    "version": 3
   },
   "file_extension": ".py",
   "mimetype": "text/x-python",
   "name": "python",
   "nbconvert_exporter": "python",
   "pygments_lexer": "ipython3",
   "version": "3.10.12"
  },
  "orig_nbformat": 4,
  "vscode": {
   "interpreter": {
    "hash": "e7370f93d1d0cde622a1f8e1c04877d8463912d04d973331ad4851f04de6915a"
   }
  }
 },
 "nbformat": 4,
 "nbformat_minor": 2
}
